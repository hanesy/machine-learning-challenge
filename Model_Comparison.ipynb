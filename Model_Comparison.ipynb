{
 "cells": [
  {
   "cell_type": "markdown",
   "metadata": {},
   "source": [
    "# Necessary Upgrades\n",
    "Run the cells in this section to make sure you have the latest version of sklearn and joblib.\n",
    "\n",
    "Restart your kernel after installing."
   ]
  },
  {
   "cell_type": "code",
   "execution_count": 34,
   "metadata": {},
   "outputs": [],
   "source": [
    "## Update sklearn to prevent version mismatches\n",
    "# !pip install sklearn --upgrade"
   ]
  },
  {
   "cell_type": "code",
   "execution_count": 35,
   "metadata": {},
   "outputs": [],
   "source": [
    "## install joblib. This will be used to save your model. \n",
    "# !pip install joblib\n",
    "## Restart your kernel after installing "
   ]
  },
  {
   "cell_type": "markdown",
   "metadata": {},
   "source": [
    "# Import Dependencies"
   ]
  },
  {
   "cell_type": "code",
   "execution_count": 1,
   "metadata": {},
   "outputs": [],
   "source": [
    "import warnings\n",
    "warnings.simplefilter('ignore')\n",
    "\n",
    "import numpy as np\n",
    "import pandas as pd\n",
    "\n",
    "from sklearn.model_selection import train_test_split\n",
    "from sklearn.preprocessing import StandardScaler, MinMaxScaler\n",
    "from sklearn.svm import SVC\n",
    "from sklearn.linear_model import LogisticRegression\n",
    "from sklearn.neighbors import KNeighborsClassifier\n",
    "\n",
    "from sklearn.model_selection import GridSearchCV\n",
    "from sklearn.metrics import classification_report\n",
    "\n",
    "import joblib"
   ]
  },
  {
   "cell_type": "markdown",
   "metadata": {},
   "source": [
    "# Read the CSV and Perform Basic Data Cleaning"
   ]
  },
  {
   "cell_type": "code",
   "execution_count": 2,
   "metadata": {},
   "outputs": [
    {
     "data": {
      "text/plain": [
       "Index(['koi_disposition', 'koi_fpflag_nt', 'koi_fpflag_ss', 'koi_fpflag_co',\n",
       "       'koi_fpflag_ec', 'koi_period', 'koi_time0bk', 'koi_impact',\n",
       "       'koi_duration', 'koi_depth', 'koi_prad', 'koi_teq', 'koi_insol',\n",
       "       'koi_model_snr', 'koi_tce_plnt_num', 'koi_steff', 'koi_slogg',\n",
       "       'koi_srad', 'ra', 'dec', 'koi_kepmag'],\n",
       "      dtype='object')"
      ]
     },
     "execution_count": 2,
     "metadata": {},
     "output_type": "execute_result"
    }
   ],
   "source": [
    "df = pd.read_csv(\"data/exoplanet_data.csv\")\n",
    "# Drop the null columns where all values are null\n",
    "df = df.dropna(axis='columns', how='all')\n",
    "# Drop the null rows\n",
    "df = df.dropna()\n",
    "# df.head()\n",
    "\n",
    "# drop the error columns\n",
    "df = df.loc[:, ~df.columns.str.contains('_err')]\n",
    "df.columns\n",
    "\n",
    "# column definitions is available at the end of this notebook."
   ]
  },
  {
   "cell_type": "markdown",
   "metadata": {},
   "source": [
    "# Select your features (columns) and y-variable.\n",
    "Column definitions are available at the end of this notebook.\n",
    "\n",
    "Use `koi_disposition` for the y values"
   ]
  },
  {
   "cell_type": "code",
   "execution_count": 3,
   "metadata": {},
   "outputs": [],
   "source": [
    "y = df[['koi_disposition']]\n",
    "\n",
    "# all the columns minus y\n",
    "selected_features = df.drop(columns=[\"koi_disposition\"])\n",
    "feature_names = selected_features.columns\n",
    "# selected_features.head()"
   ]
  },
  {
   "cell_type": "markdown",
   "metadata": {},
   "source": [
    "# Create a Train Test Split"
   ]
  },
  {
   "cell_type": "code",
   "execution_count": 4,
   "metadata": {},
   "outputs": [],
   "source": [
    "X_train, X_test, y_train, y_test = train_test_split(selected_features, y, random_state=42, stratify = y)\n",
    "# X_train.head()"
   ]
  },
  {
   "cell_type": "markdown",
   "metadata": {},
   "source": [
    "# Pre-processing\n",
    "\n",
    "Scale the data and perform some feature selection"
   ]
  },
  {
   "cell_type": "code",
   "execution_count": 5,
   "metadata": {},
   "outputs": [],
   "source": [
    "# Scale your data\n",
    "\n",
    "X_standard_scaler = StandardScaler().fit(X_train)\n",
    "X_minmax_scaler = MinMaxScaler().fit(X_train)\n",
    "\n",
    "X_train_minmax_scaled = X_minmax_scaler.transform(X_train)\n",
    "X_test_minmax_scaled = X_minmax_scaler.transform(X_test)\n",
    "\n",
    "X_train_standard_scaled = X_standard_scaler.transform(X_train)\n",
    "X_test_standard_scaled = X_standard_scaler.transform(X_test)"
   ]
  },
  {
   "cell_type": "markdown",
   "metadata": {},
   "source": [
    "# Load Models"
   ]
  },
  {
   "cell_type": "code",
   "execution_count": 9,
   "metadata": {},
   "outputs": [],
   "source": [
    "minmax_logistic = joblib.load(\"models/logistic_minmax.h5\")\n",
    "standard_logistic = joblib.load(\"models/logistic_standard.h5\")\n",
    "\n",
    "minmax_rfc = joblib.load(\"models/rfc_minmax.h5\")\n",
    "standard_rfc = joblib.load(\"models/rfc_standard.h5\")\n",
    "\n",
    "minmax_svc = joblib.load(\"models/SVC_minmax.h5\")\n",
    "standard_svc = joblib.load(\"models/SVC_standard.h5\")\n",
    "\n",
    "minmax_knn = joblib.load(\"models/knn_minmax.h5\")\n",
    "standard_knn = joblib.load(\"models/knn_standard.h5\")\n",
    "\n",
    "minmax_models = [minmax_logistic, minmax_rfc, minmax_svc, minmax_knn]\n",
    "standard_models = [standard_logistic, standard_rfc, standard_svc, standard_knn]\n",
    "model_order = [\"logistic\", \"rfc\", \"svc\", \"knn\"]"
   ]
  },
  {
   "cell_type": "markdown",
   "metadata": {},
   "source": [
    "# Compare Models"
   ]
  },
  {
   "cell_type": "code",
   "execution_count": 22,
   "metadata": {},
   "outputs": [
    {
     "data": {
      "text/html": [
       "<div>\n",
       "<style scoped>\n",
       "    .dataframe tbody tr th:only-of-type {\n",
       "        vertical-align: middle;\n",
       "    }\n",
       "\n",
       "    .dataframe tbody tr th {\n",
       "        vertical-align: top;\n",
       "    }\n",
       "\n",
       "    .dataframe thead th {\n",
       "        text-align: right;\n",
       "    }\n",
       "</style>\n",
       "<table border=\"1\" class=\"dataframe\">\n",
       "  <thead>\n",
       "    <tr style=\"text-align: right;\">\n",
       "      <th></th>\n",
       "      <th>model type</th>\n",
       "      <th>minmax scaler</th>\n",
       "      <th>standard scaler</th>\n",
       "    </tr>\n",
       "  </thead>\n",
       "  <tbody>\n",
       "    <tr>\n",
       "      <th>0</th>\n",
       "      <td>logistic</td>\n",
       "      <td>0.828375</td>\n",
       "      <td>0.834096</td>\n",
       "    </tr>\n",
       "    <tr>\n",
       "      <th>1</th>\n",
       "      <td>rfc</td>\n",
       "      <td>0.903890</td>\n",
       "      <td>0.905606</td>\n",
       "    </tr>\n",
       "    <tr>\n",
       "      <th>2</th>\n",
       "      <td>svc</td>\n",
       "      <td>0.802059</td>\n",
       "      <td>0.832380</td>\n",
       "    </tr>\n",
       "    <tr>\n",
       "      <th>3</th>\n",
       "      <td>knn</td>\n",
       "      <td>0.795195</td>\n",
       "      <td>0.815217</td>\n",
       "    </tr>\n",
       "  </tbody>\n",
       "</table>\n",
       "</div>"
      ],
      "text/plain": [
       "  model type  minmax scaler  standard scaler\n",
       "0   logistic       0.828375         0.834096\n",
       "1        rfc       0.903890         0.905606\n",
       "2        svc       0.802059         0.832380\n",
       "3        knn       0.795195         0.815217"
      ]
     },
     "execution_count": 22,
     "metadata": {},
     "output_type": "execute_result"
    }
   ],
   "source": [
    "minmax_scores = []\n",
    "standard_scores = []\n",
    "minmax_predictions = []\n",
    "standard_predictions = []\n",
    "\n",
    "for i in range(len(model_order)):\n",
    "    minmax_score = minmax_models[i].score(X_test_minmax_scaled, y_test)\n",
    "    minmax_scores.append(minmax_score)\n",
    "    \n",
    "    minmax_prediction = minmax_models[i].predict(X_test_minmax_scaled)\n",
    "    minmax_predictions.append(minmax_prediction)\n",
    "    \n",
    "    standard_score = standard_models[i].score(X_test_standard_scaled, y_test)\n",
    "    standard_scores.append(standard_score)\n",
    "    \n",
    "    standard_prediction = standard_models[i].predict(X_test_standard_scaled)\n",
    "    standard_predictions.append(standard_prediction)\n",
    "#     print (model_order[i])    \n",
    "#     print (f\"minmax scaling: {minmax_score}\")   \n",
    "#     print (f\"standard scaling: {standard_score}\")\n",
    "\n",
    "pd.DataFrame({\"model type\": model_order, \"minmax scaler\": minmax_scores, \n",
    "              \"standard scaler\": standard_scores}).reset_index(drop=True)"
   ]
  },
  {
   "cell_type": "code",
   "execution_count": 33,
   "metadata": {
    "scrolled": false
   },
   "outputs": [
    {
     "name": "stdout",
     "output_type": "stream",
     "text": [
      "MODEL TYPE: logistic\n",
      "\n",
      "---\n",
      "minmax scaler\n",
      "---\n",
      "test score: 0.8283752860411899\n",
      "                precision    recall  f1-score   support\n",
      "\n",
      "     CANDIDATE       0.68      0.59      0.63       422\n",
      "     CONFIRMED       0.66      0.72      0.69       450\n",
      "FALSE POSITIVE       0.99      1.00      0.99       876\n",
      "\n",
      "      accuracy                           0.83      1748\n",
      "     macro avg       0.77      0.77      0.77      1748\n",
      "  weighted avg       0.83      0.83      0.83      1748\n",
      "\n",
      "---\n",
      "standard scaler\n",
      "---\n",
      "test score: 0.834096109839817\n",
      "                precision    recall  f1-score   support\n",
      "\n",
      "     CANDIDATE       0.69      0.60      0.65       422\n",
      "     CONFIRMED       0.66      0.73      0.70       450\n",
      "FALSE POSITIVE       0.99      1.00      0.99       876\n",
      "\n",
      "      accuracy                           0.83      1748\n",
      "     macro avg       0.78      0.78      0.78      1748\n",
      "  weighted avg       0.83      0.83      0.83      1748\n",
      "\n",
      "--------------------------------------------------------------------\n",
      "MODEL TYPE: rfc\n",
      "\n",
      "---\n",
      "minmax scaler\n",
      "---\n",
      "test score: 0.9038901601830663\n",
      "                precision    recall  f1-score   support\n",
      "\n",
      "     CANDIDATE       0.84      0.77      0.80       422\n",
      "     CONFIRMED       0.81      0.84      0.83       450\n",
      "FALSE POSITIVE       0.98      1.00      0.99       876\n",
      "\n",
      "      accuracy                           0.90      1748\n",
      "     macro avg       0.88      0.87      0.87      1748\n",
      "  weighted avg       0.90      0.90      0.90      1748\n",
      "\n",
      "---\n",
      "standard scaler\n",
      "---\n",
      "test score: 0.9056064073226545\n",
      "                precision    recall  f1-score   support\n",
      "\n",
      "     CANDIDATE       0.84      0.77      0.81       422\n",
      "     CONFIRMED       0.81      0.85      0.83       450\n",
      "FALSE POSITIVE       0.98      1.00      0.99       876\n",
      "\n",
      "      accuracy                           0.91      1748\n",
      "     macro avg       0.88      0.87      0.88      1748\n",
      "  weighted avg       0.90      0.91      0.90      1748\n",
      "\n",
      "--------------------------------------------------------------------\n",
      "MODEL TYPE: svc\n",
      "\n",
      "---\n",
      "minmax scaler\n",
      "---\n",
      "test score: 0.8020594965675057\n",
      "                precision    recall  f1-score   support\n",
      "\n",
      "     CANDIDATE       0.66      0.42      0.51       422\n",
      "     CONFIRMED       0.59      0.78      0.67       450\n",
      "FALSE POSITIVE       0.99      1.00      0.99       876\n",
      "\n",
      "      accuracy                           0.80      1748\n",
      "     macro avg       0.75      0.73      0.73      1748\n",
      "  weighted avg       0.81      0.80      0.79      1748\n",
      "\n",
      "---\n",
      "standard scaler\n",
      "---\n",
      "test score: 0.8323798627002288\n",
      "                precision    recall  f1-score   support\n",
      "\n",
      "     CANDIDATE       0.70      0.59      0.64       422\n",
      "     CONFIRMED       0.66      0.74      0.70       450\n",
      "FALSE POSITIVE       0.99      1.00      0.99       876\n",
      "\n",
      "      accuracy                           0.83      1748\n",
      "     macro avg       0.78      0.77      0.78      1748\n",
      "  weighted avg       0.83      0.83      0.83      1748\n",
      "\n",
      "--------------------------------------------------------------------\n",
      "MODEL TYPE: knn\n",
      "\n",
      "---\n",
      "minmax scaler\n",
      "---\n",
      "test score: 0.7951945080091534\n",
      "                precision    recall  f1-score   support\n",
      "\n",
      "     CANDIDATE       0.62      0.46      0.53       422\n",
      "     CONFIRMED       0.59      0.72      0.64       450\n",
      "FALSE POSITIVE       0.99      1.00      0.99       876\n",
      "\n",
      "      accuracy                           0.80      1748\n",
      "     macro avg       0.73      0.72      0.72      1748\n",
      "  weighted avg       0.79      0.80      0.79      1748\n",
      "\n",
      "---\n",
      "standard scaler\n",
      "---\n",
      "test score: 0.8152173913043478\n",
      "                precision    recall  f1-score   support\n",
      "\n",
      "     CANDIDATE       0.66      0.55      0.60       422\n",
      "     CONFIRMED       0.63      0.73      0.68       450\n",
      "FALSE POSITIVE       0.98      0.99      0.99       876\n",
      "\n",
      "      accuracy                           0.82      1748\n",
      "     macro avg       0.76      0.75      0.75      1748\n",
      "  weighted avg       0.82      0.82      0.81      1748\n",
      "\n",
      "--------------------------------------------------------------------\n"
     ]
    }
   ],
   "source": [
    "for i in range(len(model_order)):\n",
    "    print (f\"MODEL TYPE: {model_order[i]}\")\n",
    "    print()\n",
    "    print (\"---\")\n",
    "    print(\"minmax scaler\")\n",
    "    print (\"---\")\n",
    "    print(f\"test score: {minmax_scores[i]}\")\n",
    "    print(classification_report(y_test, minmax_predictions[i]))\n",
    "    print (\"---\")\n",
    "    print (\"standard scaler\")\n",
    "    print (\"---\")\n",
    "    print(f\"test score: {standard_scores[i]}\")\n",
    "    print(classification_report(y_test, standard_predictions[i]))\n",
    "    print (\"--------------------------------------------------------------------\")"
   ]
  },
  {
   "cell_type": "code",
   "execution_count": null,
   "metadata": {},
   "outputs": [],
   "source": []
  }
 ],
 "metadata": {
  "kernelspec": {
   "display_name": "Python 3.7.5 64-bit ('PythonData': conda)",
   "language": "python",
   "name": "python37564bitpythondataconda93b4aacbe3a94029a49f9aca4966340b"
  },
  "language_info": {
   "codemirror_mode": {
    "name": "ipython",
    "version": 3
   },
   "file_extension": ".py",
   "mimetype": "text/x-python",
   "name": "python",
   "nbconvert_exporter": "python",
   "pygments_lexer": "ipython3",
   "version": "3.7.5"
  }
 },
 "nbformat": 4,
 "nbformat_minor": 2
}
